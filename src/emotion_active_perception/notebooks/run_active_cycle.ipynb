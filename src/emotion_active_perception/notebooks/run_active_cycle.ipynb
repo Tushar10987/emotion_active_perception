{
  "cells": [
    {
      "cell_type": "code",
      "execution_count": null,
      "metadata": {},
      "outputs": [],
      "source": [
        "from pathlib import Path\n",
        "from emotion_active_perception.trainer.active_loop import run_active_cycle\n",
        "\n",
        "# Paths\n",
        "ws = Path('~/ros2_ws').expanduser()\n",
        "dataset_dir = ws / 'ap_dataset'\n",
        "out_dir = ws / 'ap_outputs'\n",
        "\n",
        "# Run one active cycle\n",
        "results = run_active_cycle(dataset_dir, out_dir)\n",
        "results\n"
      ]
    }
  ],
  "metadata": {
    "language_info": {
      "name": "python"
    }
  },
  "nbformat": 4,
  "nbformat_minor": 2
}
